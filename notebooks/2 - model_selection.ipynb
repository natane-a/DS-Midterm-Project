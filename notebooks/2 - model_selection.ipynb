{
 "cells": [
  {
   "cell_type": "markdown",
   "metadata": {},
   "source": [
    "## Model Selection\n",
    "\n",
    "This notebook should include preliminary and baseline modeling.\n",
    "- Try as many different models as possible.\n",
    "- Don't worry about hyperparameter tuning or cross validation here.\n",
    "- Ideas include:\n",
    "    - linear regression\n",
    "    - support vector machines\n",
    "    - random forest\n",
    "    - xgboost"
   ]
  },
  {
   "cell_type": "code",
   "execution_count": 2,
   "metadata": {},
   "outputs": [
    {
     "name": "stdout",
     "output_type": "stream",
     "text": [
      "Collecting xgboost\n",
      "  Downloading xgboost-2.1.2-py3-none-win_amd64.whl.metadata (2.1 kB)\n",
      "Requirement already satisfied: numpy in c:\\users\\natan\\anaconda3\\lib\\site-packages (from xgboost) (1.26.2)\n",
      "Requirement already satisfied: scipy in c:\\users\\natan\\anaconda3\\lib\\site-packages (from xgboost) (1.12.0)\n",
      "Downloading xgboost-2.1.2-py3-none-win_amd64.whl (124.9 MB)\n",
      "   ---------------------------------------- 0.0/124.9 MB ? eta -:--:--\n",
      "   ---------------------------------------- 0.0/124.9 MB ? eta -:--:--\n",
      "   ---------------------------------------- 0.1/124.9 MB 919.0 kB/s eta 0:02:16\n",
      "   ---------------------------------------- 0.7/124.9 MB 5.7 MB/s eta 0:00:22\n",
      "    --------------------------------------- 2.7/124.9 MB 15.5 MB/s eta 0:00:08\n",
      "   -- ------------------------------------- 6.7/124.9 MB 30.8 MB/s eta 0:00:04\n",
      "   --- ------------------------------------ 11.2/124.9 MB 81.8 MB/s eta 0:00:02\n",
      "   ---- ----------------------------------- 13.7/124.9 MB 81.8 MB/s eta 0:00:02\n",
      "   ----- ---------------------------------- 17.8/124.9 MB 81.8 MB/s eta 0:00:02\n",
      "   ------- -------------------------------- 22.2/124.9 MB 93.0 MB/s eta 0:00:02\n",
      "   -------- ------------------------------- 26.2/124.9 MB 93.9 MB/s eta 0:00:02\n",
      "   --------- ------------------------------ 30.4/124.9 MB 93.9 MB/s eta 0:00:02\n",
      "   ---------- ----------------------------- 33.8/124.9 MB 81.8 MB/s eta 0:00:02\n",
      "   ------------ --------------------------- 38.2/124.9 MB 81.8 MB/s eta 0:00:02\n",
      "   ------------- -------------------------- 42.5/124.9 MB 81.8 MB/s eta 0:00:02\n",
      "   -------------- ------------------------- 45.6/124.9 MB 81.8 MB/s eta 0:00:01\n",
      "   ---------------- ----------------------- 50.2/124.9 MB 81.8 MB/s eta 0:00:01\n",
      "   ----------------- ---------------------- 54.2/124.9 MB 81.8 MB/s eta 0:00:01\n",
      "   ------------------ --------------------- 58.5/124.9 MB 93.9 MB/s eta 0:00:01\n",
      "   -------------------- ------------------- 62.5/124.9 MB 93.9 MB/s eta 0:00:01\n",
      "   --------------------- ------------------ 66.0/124.9 MB 81.8 MB/s eta 0:00:01\n",
      "   ---------------------- ----------------- 70.1/124.9 MB 81.8 MB/s eta 0:00:01\n",
      "   ----------------------- ---------------- 74.4/124.9 MB 93.9 MB/s eta 0:00:01\n",
      "   ------------------------ --------------- 77.7/124.9 MB 93.9 MB/s eta 0:00:01\n",
      "   -------------------------- ------------- 81.7/124.9 MB 81.8 MB/s eta 0:00:01\n",
      "   -------------------------- ------------- 83.8/124.9 MB 81.8 MB/s eta 0:00:01\n",
      "   --------------------------- ------------ 87.4/124.9 MB 65.6 MB/s eta 0:00:01\n",
      "   ----------------------------- ---------- 91.2/124.9 MB 65.6 MB/s eta 0:00:01\n",
      "   ------------------------------ --------- 94.2/124.9 MB 81.8 MB/s eta 0:00:01\n",
      "   ------------------------------- -------- 98.6/124.9 MB 93.9 MB/s eta 0:00:01\n",
      "   ------------------------------- ------- 101.3/124.9 MB 72.6 MB/s eta 0:00:01\n",
      "   -------------------------------- ------ 105.7/124.9 MB 81.8 MB/s eta 0:00:01\n",
      "   --------------------------------- ----- 108.3/124.9 MB 72.6 MB/s eta 0:00:01\n",
      "   ----------------------------------- --- 112.5/124.9 MB 81.8 MB/s eta 0:00:01\n",
      "   ------------------------------------ -- 116.6/124.9 MB 81.8 MB/s eta 0:00:01\n",
      "   ------------------------------------- - 120.4/124.9 MB 81.8 MB/s eta 0:00:01\n",
      "   --------------------------------------  123.8/124.9 MB 93.0 MB/s eta 0:00:01\n",
      "   --------------------------------------- 124.9/124.9 MB 73.0 MB/s eta 0:00:00\n",
      "Installing collected packages: xgboost\n",
      "Successfully installed xgboost-2.1.2\n"
     ]
    },
    {
     "name": "stderr",
     "output_type": "stream",
     "text": [
      "WARNING: Ignoring invalid distribution -pencv-python (c:\\users\\natan\\anaconda3\\lib\\site-packages)\n",
      "WARNING: Ignoring invalid distribution -pencv-python (c:\\users\\natan\\anaconda3\\lib\\site-packages)\n"
     ]
    }
   ],
   "source": [
    "!pip install xgboost"
   ]
  },
  {
   "cell_type": "code",
   "execution_count": 44,
   "metadata": {},
   "outputs": [
    {
     "name": "stdout",
     "output_type": "stream",
     "text": [
      "<class 'pandas.core.frame.DataFrame'>\n",
      "RangeIndex: 5352 entries, 0 to 5351\n",
      "Data columns (total 38 columns):\n",
      " #   Column                       Non-Null Count  Dtype  \n",
      "---  ------                       --------------  -----  \n",
      " 0   list_price                   5352 non-null   float64\n",
      " 1   price_reduced_amount         5352 non-null   float64\n",
      " 2   description.year_built       5352 non-null   int64  \n",
      " 3   description.baths_3qtr       5352 non-null   float64\n",
      " 4   description.sold_price       5352 non-null   float64\n",
      " 5   description.baths_full       5352 non-null   float64\n",
      " 6   description.baths_half       5352 non-null   float64\n",
      " 7   description.lot_sqft         5352 non-null   float64\n",
      " 8   description.sqft             5352 non-null   float64\n",
      " 9   description.baths            5352 non-null   float64\n",
      " 10  description.sub_type         5352 non-null   object \n",
      " 11  description.garage           5352 non-null   float64\n",
      " 12  description.stories          5352 non-null   float64\n",
      " 13  description.beds             5352 non-null   float64\n",
      " 14  description.type             5352 non-null   object \n",
      " 15  central_air                  5352 non-null   int64  \n",
      " 16  central_heat                 5352 non-null   int64  \n",
      " 17  community_outdoor_space      5352 non-null   int64  \n",
      " 18  community_security_features  5352 non-null   int64  \n",
      " 19  dishwasher                   5352 non-null   int64  \n",
      " 20  fireplace                    5352 non-null   int64  \n",
      " 21  hardwood_floors              5352 non-null   int64  \n",
      " 22  laundry_room                 5352 non-null   int64  \n",
      " 23  single_story                 5352 non-null   int64  \n",
      " 24  garage_1_or_more             5352 non-null   int64  \n",
      " 25  garage_2_or_more             5352 non-null   int64  \n",
      " 26  city_view                    5352 non-null   int64  \n",
      " 27  two_or_more_stories          5352 non-null   int64  \n",
      " 28  recreation_facilities        5352 non-null   int64  \n",
      " 29  shopping                     5352 non-null   int64  \n",
      " 30  washer_dryer                 5352 non-null   int64  \n",
      " 31  basement                     5352 non-null   int64  \n",
      " 32  view                         5352 non-null   int64  \n",
      " 33  forced_air                   5352 non-null   int64  \n",
      " 34  family_room                  5352 non-null   int64  \n",
      " 35  dining_room                  5352 non-null   int64  \n",
      " 36  city_mean_price              5352 non-null   float64\n",
      " 37  state_mean_price             5352 non-null   float64\n",
      "dtypes: float64(14), int64(22), object(2)\n",
      "memory usage: 1.6+ MB\n"
     ]
    }
   ],
   "source": [
    "# import models and fit\n",
    "from sklearn.linear_model import LinearRegression\n",
    "from sklearn.svm import SVR\n",
    "from sklearn.ensemble import RandomForestRegressor\n",
    "import xgboost as xgb\n",
    "from sklearn.metrics import mean_squared_error, r2_score, mean_absolute_error\n",
    "import pandas as pd\n",
    "import numpy as np\n",
    "import matplotlib.pyplot as plt\n",
    "import seaborn as sns\n",
    "from sklearn.pipeline import Pipeline\n",
    "from sklearn.preprocessing import StandardScaler\n",
    "from sklearn.decomposition import PCA\n",
    "from sklearn.preprocessing import OneHotEncoder\n",
    "from sklearn.preprocessing import LabelEncoder\n",
    "from sklearn.compose import ColumnTransformer\n",
    "# load data\n",
    "train_df = pd.read_csv('../preprocessed/train_df.csv')\n",
    "test_df = pd.read_csv('../preprocessed/test_df.csv')\n",
    "\n",
    "X_train = train_df.drop(columns=['description.sold_price'])\n",
    "y_train = train_df['description.sold_price']\n",
    "X_test = test_df.drop(columns=['description.sold_price'])\n",
    "y_test = test_df['description.sold_price']\n",
    "\n",
    "numerical_features = X_train.select_dtypes(include=['float64', 'int64']).columns\n",
    "categorical_features = X_train.select_dtypes(include=['object']).columns\n",
    "boolean_features = X_train.select_dtypes(include=['bool']).columns\n",
    "\n",
    "train_df.info()"
   ]
  },
  {
   "cell_type": "code",
   "execution_count": 45,
   "metadata": {},
   "outputs": [],
   "source": [
    "scaler = StandardScaler()\n",
    "X_train[numerical_features] = scaler.fit_transform(X_train[numerical_features])\n",
    "X_test[numerical_features] = scaler.transform(X_test[numerical_features])\n",
    "\n",
    "# one -hot encode categorical features\n",
    "encoder = OneHotEncoder(drop='first', handle_unknown='ignore')\n",
    "X_train_encoded = encoder.fit_transform(X_train[categorical_features]).toarray()\n",
    "X_test_encoded = encoder.transform(X_test[categorical_features]).toarray()\n",
    "\n",
    "# recombine numerical and encoded categorical data\n",
    "X_train_final = np.hstack([X_train[numerical_features].values, X_train_encoded])\n",
    "X_test_final = np.hstack([X_test[numerical_features].values, X_test_encoded])"
   ]
  },
  {
   "cell_type": "code",
   "execution_count": 46,
   "metadata": {},
   "outputs": [
    {
     "name": "stdout",
     "output_type": "stream",
     "text": [
      "Linear Regression Performance Metrics:\n",
      "Mean Absolute Error (MAE): 69175.00\n",
      "Mean Squared Error (MSE): 20359357639.29\n",
      "Root Mean Squared Error (RMSE): 142686.22\n",
      "R-squared (R²): 0.91\n"
     ]
    }
   ],
   "source": [
    "# training linear regression model\n",
    "model = LinearRegression()\n",
    "model.fit(X_train_final, y_train)\n",
    "\n",
    "# test set prediciton\n",
    "y_pred = model.predict(X_test_final)\n",
    "\n",
    "# model evaluation\n",
    "mae = mean_absolute_error(y_test, y_pred)\n",
    "mse = mean_squared_error(y_test, y_pred)\n",
    "rmse = mean_squared_error(y_test, y_pred, squared=False)\n",
    "r2 = r2_score(y_test, y_pred)\n",
    "\n",
    "print(\"Linear Regression Performance Metrics:\")\n",
    "print(f\"Mean Absolute Error (MAE): {mae:.2f}\")\n",
    "print(f\"Mean Squared Error (MSE): {mse:.2f}\")\n",
    "print(f\"Root Mean Squared Error (RMSE): {rmse:.2f}\")\n",
    "print(f\"R-squared (R²): {r2:.2f}\")"
   ]
  },
  {
   "cell_type": "code",
   "execution_count": 47,
   "metadata": {},
   "outputs": [
    {
     "name": "stdout",
     "output_type": "stream",
     "text": [
      "Random Forest Performance Metrics:\n",
      "Mean Absolute Error (MAE): 12227.52\n",
      "Mean Squared Error (MSE): 62823024120.40\n",
      "Root Mean Squared Error (RMSE): 250645.22\n",
      "R-squared (R²): 0.73\n"
     ]
    }
   ],
   "source": [
    "# random forest regressor\n",
    "rf_model = RandomForestRegressor()  # You can tune n_estimators and other hyperparameters\n",
    "rf_model.fit(X_train_final, y_train)\n",
    "\n",
    "# predict on the test set\n",
    "y_pred_rf = rf_model.predict(X_test_final)\n",
    "\n",
    "# evaluation metrics\n",
    "mae_rf = mean_absolute_error(y_test, y_pred_rf)\n",
    "mse_rf = mean_squared_error(y_test, y_pred_rf)\n",
    "rmse_rf = mean_squared_error(y_test, y_pred_rf, squared=False)\n",
    "r2_rf = r2_score(y_test, y_pred_rf)\n",
    "\n",
    "print(\"Random Forest Performance Metrics:\")\n",
    "print(f\"Mean Absolute Error (MAE): {mae_rf:.2f}\")\n",
    "print(f\"Mean Squared Error (MSE): {mse_rf:.2f}\")\n",
    "print(f\"Root Mean Squared Error (RMSE): {rmse_rf:.2f}\")\n",
    "print(f\"R-squared (R²): {r2_rf:.2f}\")"
   ]
  },
  {
   "cell_type": "code",
   "execution_count": null,
   "metadata": {},
   "outputs": [
    {
     "name": "stdout",
     "output_type": "stream",
     "text": [
      "Support Vector Regressor Performance Metrics:\n",
      "Mean Absolute Error (MAE): 218082.36\n",
      "Mean Squared Error (MSE): 242249386771.44\n",
      "Root Mean Squared Error (RMSE): 492188.37\n",
      "R-squared (R²): -0.03\n"
     ]
    }
   ],
   "source": [
    "# svm\n",
    "svr_model = SVR(kernel='poly')  \n",
    "svr_model.fit(X_train_final, y_train)\n",
    "\n",
    "# predict on the test set\n",
    "y_pred_svr = svr_model.predict(X_test_final)\n",
    "\n",
    "# evaluate the svr model\n",
    "mae_svr = mean_absolute_error(y_test, y_pred_svr)\n",
    "mse_svr = mean_squared_error(y_test, y_pred_svr)\n",
    "rmse_svr = mean_squared_error(y_test, y_pred_svr, squared=False)\n",
    "r2_svr = r2_score(y_test, y_pred_svr)\n",
    "\n",
    "print(\"Support Vector Regressor Performance Metrics:\")\n",
    "print(f\"Mean Absolute Error (MAE): {mae_svr:.2f}\")\n",
    "print(f\"Mean Squared Error (MSE): {mse_svr:.2f}\")\n",
    "print(f\"Root Mean Squared Error (RMSE): {rmse_svr:.2f}\")\n",
    "print(f\"R-squared (R²): {r2_svr:.2f}\")"
   ]
  },
  {
   "cell_type": "code",
   "execution_count": null,
   "metadata": {},
   "outputs": [
    {
     "name": "stdout",
     "output_type": "stream",
     "text": [
      "XGBoost Performance Metrics:\n",
      "Mean Absolute Error (MAE): 15172.27\n",
      "Mean Squared Error (MSE): 63484761165.69\n",
      "Root Mean Squared Error (RMSE): 251961.82\n",
      "R-squared (R²): 0.73\n"
     ]
    }
   ],
   "source": [
    "#xgboost\n",
    "xgb_model = xgb.XGBRegressor()  \n",
    "xgb_model.fit(X_train_final, y_train)\n",
    "\n",
    "# predict on the test set\n",
    "y_pred_xgb = xgb_model.predict(X_test_final)\n",
    "\n",
    "# evaluate the XGBoost model\n",
    "mae_xgb = mean_absolute_error(y_test, y_pred_xgb)\n",
    "mse_xgb = mean_squared_error(y_test, y_pred_xgb)\n",
    "rmse_xgb = mean_squared_error(y_test, y_pred_xgb, squared=False)\n",
    "r2_xgb = r2_score(y_test, y_pred_xgb)\n",
    "\n",
    "print(\"XGBoost Performance Metrics:\")\n",
    "print(f\"Mean Absolute Error (MAE): {mae_xgb:.2f}\")\n",
    "print(f\"Mean Squared Error (MSE): {mse_xgb:.2f}\")\n",
    "print(f\"Root Mean Squared Error (RMSE): {rmse_xgb:.2f}\")\n",
    "print(f\"R-squared (R²): {r2_xgb:.2f}\")"
   ]
  },
  {
   "cell_type": "code",
   "execution_count": null,
   "metadata": {},
   "outputs": [
    {
     "data": {
      "image/png": "[encoded data removed]",
      "text/plain": [
       "<Figure size 1000x600 with 1 Axes>"
      ]
     },
     "metadata": {},
     "output_type": "display_data"
    }
   ],
   "source": [
    "# visualize y_test, y_preds\n",
    "plt.figure(figsize=(10, 6))\n",
    "sns.scatterplot(x=y_test, y=y_pred, color='blue', alpha=0.6)\n",
    "sns.lineplot(x=y_test, y=y_test, color='red', linestyle='--', label='Perfect Prediction') # Diagonal line for reference\n",
    "plt.xlabel('Actual Values (y_test)')\n",
    "plt.ylabel('Predicted Values (y_pred)')\n",
    "plt.title('Actual vs Predicted Values')\n",
    "plt.legend()\n",
    "plt.show()"
   ]
  },
  {
   "cell_type": "code",
   "execution_count": 9,
   "metadata": {},
   "outputs": [],
   "source": []
  },
  {
   "cell_type": "code",
   "execution_count": 10,
   "metadata": {},
   "outputs": [
    {
     "name": "stdout",
     "output_type": "stream",
     "text": [
      "618329083728.008\n",
      "170574.61621332404\n",
      "0.07106832932860896\n"
     ]
    }
   ],
   "source": []
  },
  {
   "cell_type": "code",
   "execution_count": 11,
   "metadata": {},
   "outputs": [
    {
     "name": "stdout",
     "output_type": "stream",
     "text": [
      "617839820230.9951\n",
      "170387.02795746463\n",
      "0.07180336245197205\n"
     ]
    }
   ],
   "source": []
  },
  {
   "cell_type": "markdown",
   "metadata": {},
   "source": [
    "Consider what metrics you want to use to evaluate success.\n",
    "- If you think about mean squared error, can we actually relate to the amount of error?\n",
    "- Try root mean squared error so that error is closer to the original units (dollars)\n",
    "- What does RMSE do to outliers?\n",
    "- Is mean absolute error a good metric for this problem?\n",
    "- What about R^2? Adjusted R^2?\n",
    "- Briefly describe your reasons for picking the metrics you use"
   ]
  },
  {
   "cell_type": "code",
   "execution_count": 6,
   "metadata": {},
   "outputs": [],
   "source": [
    "# gather evaluation metrics and compare results"
   ]
  },
  {
   "cell_type": "markdown",
   "metadata": {},
   "source": [
    "## Feature Selection - STRETCH\n",
    "\n",
    "> **This step doesn't need to be part of your Minimum Viable Product (MVP), but its recommended you complete it if you have time!**\n",
    "\n",
    "Even with all the preprocessing we did in Notebook 1, you probably still have a lot of features. Are they all important for prediction?\n",
    "\n",
    "Investigate some feature selection algorithms (Lasso, RFE, Forward/Backward Selection)\n",
    "- Perform feature selection to get a reduced subset of your original features\n",
    "- Refit your models with this reduced dimensionality - how does performance change on your chosen metrics?\n",
    "- Based on this, should you include feature selection in your final pipeline? Explain\n",
    "\n",
    "Remember, feature selection often doesn't directly improve performance, but if performance remains the same, a simpler model is often preferrable. \n",
    "\n"
   ]
  },
  {
   "cell_type": "code",
   "execution_count": 14,
   "metadata": {},
   "outputs": [
    {
     "name": "stdout",
     "output_type": "stream",
     "text": [
      "Best parameters found:  {'fs__k': 180, 'model__fit_intercept': True}\n",
      "Best cross-validation score:  0.8963785738281007\n",
      "Mean Squared Error: 546320331254.04694\n",
      "Mean Absolute Error: 65913.91139240506\n",
      "R^2 Score: 0.17924892846087248\n"
     ]
    }
   ],
   "source": []
  },
  {
   "cell_type": "code",
   "execution_count": 33,
   "metadata": {},
   "outputs": [
    {
     "name": "stderr",
     "output_type": "stream",
     "text": [
      "/opt/anaconda3/envs/LHL/lib/python3.11/site-packages/sklearn/model_selection/_validation.py:540: FitFailedWarning: \n",
      "30 fits failed out of a total of 60.\n",
      "The score on these train-test partitions for these parameters will be set to nan.\n",
      "If these failures are not expected, you can try to debug them by setting error_score='raise'.\n",
      "\n",
      "Below are more details about the failures:\n",
      "--------------------------------------------------------------------------------\n",
      "30 fits failed with the following error:\n",
      "Traceback (most recent call last):\n",
      "  File \"/opt/anaconda3/envs/LHL/lib/python3.11/site-packages/sklearn/model_selection/_validation.py\", line 888, in _fit_and_score\n",
      "    estimator.fit(X_train, y_train, **fit_params)\n",
      "  File \"/opt/anaconda3/envs/LHL/lib/python3.11/site-packages/sklearn/base.py\", line 1473, in wrapper\n",
      "    return fit_method(estimator, *args, **kwargs)\n",
      "           ^^^^^^^^^^^^^^^^^^^^^^^^^^^^^^^^^^^^^^\n",
      "  File \"/opt/anaconda3/envs/LHL/lib/python3.11/site-packages/sklearn/pipeline.py\", line 473, in fit\n",
      "    self._final_estimator.fit(Xt, y, **last_step_params[\"fit\"])\n",
      "  File \"/opt/anaconda3/envs/LHL/lib/python3.11/site-packages/sklearn/base.py\", line 1466, in wrapper\n",
      "    estimator._validate_params()\n",
      "  File \"/opt/anaconda3/envs/LHL/lib/python3.11/site-packages/sklearn/base.py\", line 666, in _validate_params\n",
      "    validate_parameter_constraints(\n",
      "  File \"/opt/anaconda3/envs/LHL/lib/python3.11/site-packages/sklearn/utils/_param_validation.py\", line 95, in validate_parameter_constraints\n",
      "    raise InvalidParameterError(\n",
      "sklearn.utils._param_validation.InvalidParameterError: The 'C' parameter of SVR must be a float in the range (0.0, inf). Got False instead.\n",
      "\n",
      "  warnings.warn(some_fits_failed_message, FitFailedWarning)\n",
      "/opt/anaconda3/envs/LHL/lib/python3.11/site-packages/sklearn/model_selection/_search.py:1102: UserWarning: One or more of the test scores are non-finite: [-0.04602343         nan -0.04605393         nan -0.04607171         nan\n",
      " -0.04609251         nan -0.04611183         nan -0.0461194          nan]\n",
      "  warnings.warn(\n"
     ]
    },
    {
     "name": "stdout",
     "output_type": "stream",
     "text": [
      "Best parameters found:  {'fs__k': 90, 'model__C': True}\n",
      "Best cross-validation score:  -0.04602343008841343\n",
      "Mean Squared Error: 676841446287.0402\n",
      "Mean Absolute Error: 236513.0231623813\n",
      "R^2 Score: -0.016836296439893816\n"
     ]
    }
   ],
   "source": []
  },
  {
   "cell_type": "code",
   "execution_count": 17,
   "metadata": {},
   "outputs": [
    {
     "name": "stdout",
     "output_type": "stream",
     "text": [
      "Best parameters found:  {'fs__k': 50, 'model__max_depth': 40, 'model__n_estimators': 100}\n",
      "Best cross-validation score:  0.46942166975893435\n",
      "618422074192.981\n",
      "172616.2936230366\n",
      "0.0709286273636569\n"
     ]
    }
   ],
   "source": []
  },
  {
   "cell_type": "code",
   "execution_count": 18,
   "metadata": {},
   "outputs": [
    {
     "name": "stdout",
     "output_type": "stream",
     "text": [
      "Best parameters found:  {'fs__k': 50, 'model__learning_rate': 0.3, 'model__max_depth': 10, 'model__n_estimators': 100}\n",
      "Best cross-validation score:  0.47037076064361455\n",
      "Mean Squared Error: 617434804993.8838\n",
      "Mean Absolute Error: 170709.48518649943\n",
      "R^2 Score: 0.07241182724969575\n"
     ]
    }
   ],
   "source": []
  },
  {
   "cell_type": "markdown",
   "metadata": {},
   "source": []
  }
 ],
 "metadata": {
  "kernelspec": {
   "display_name": "Python 3 (ipykernel)",
   "language": "python",
   "name": "python3"
  },
  "language_info": {
   "codemirror_mode": {
    "name": "ipython",
    "version": 3
   },
   "file_extension": ".py",
   "mimetype": "text/x-python",
   "name": "python",
   "nbconvert_exporter": "python",
   "pygments_lexer": "ipython3",
   "version": "3.9.19"
  }
 },
 "nbformat": 4,
 "nbformat_minor": 4
}

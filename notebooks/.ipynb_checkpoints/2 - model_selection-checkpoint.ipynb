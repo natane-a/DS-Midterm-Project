{
 "cells": [
  {
   "cell_type": "markdown",
   "metadata": {},
   "source": [
    "## Model Selection\n",
    "\n",
    "This notebook should include preliminary and baseline modeling.\n",
    "- Try as many different models as possible.\n",
    "- Don't worry about hyperparameter tuning or cross validation here.\n",
    "- Ideas include:\n",
    "    - linear regression\n",
    "    - support vector machines\n",
    "    - random forest\n",
    "    - xgboost"
   ]
  },
  {
   "cell_type": "code",
   "execution_count": 2,
   "metadata": {},
   "outputs": [
    {
     "name": "stdout",
     "output_type": "stream",
     "text": [
      "Collecting xgboost\n",
      "  Downloading xgboost-2.1.2-py3-none-win_amd64.whl.metadata (2.1 kB)\n",
      "Requirement already satisfied: numpy in c:\\users\\natan\\anaconda3\\lib\\site-packages (from xgboost) (1.26.2)\n",
      "Requirement already satisfied: scipy in c:\\users\\natan\\anaconda3\\lib\\site-packages (from xgboost) (1.12.0)\n",
      "Downloading xgboost-2.1.2-py3-none-win_amd64.whl (124.9 MB)\n",
      "   ---------------------------------------- 0.0/124.9 MB ? eta -:--:--\n",
      "   ---------------------------------------- 0.0/124.9 MB ? eta -:--:--\n",
      "   ---------------------------------------- 0.1/124.9 MB 919.0 kB/s eta 0:02:16\n",
      "   ---------------------------------------- 0.7/124.9 MB 5.7 MB/s eta 0:00:22\n",
      "    --------------------------------------- 2.7/124.9 MB 15.5 MB/s eta 0:00:08\n",
      "   -- ------------------------------------- 6.7/124.9 MB 30.8 MB/s eta 0:00:04\n",
      "   --- ------------------------------------ 11.2/124.9 MB 81.8 MB/s eta 0:00:02\n",
      "   ---- ----------------------------------- 13.7/124.9 MB 81.8 MB/s eta 0:00:02\n",
      "   ----- ---------------------------------- 17.8/124.9 MB 81.8 MB/s eta 0:00:02\n",
      "   ------- -------------------------------- 22.2/124.9 MB 93.0 MB/s eta 0:00:02\n",
      "   -------- ------------------------------- 26.2/124.9 MB 93.9 MB/s eta 0:00:02\n",
      "   --------- ------------------------------ 30.4/124.9 MB 93.9 MB/s eta 0:00:02\n",
      "   ---------- ----------------------------- 33.8/124.9 MB 81.8 MB/s eta 0:00:02\n",
      "   ------------ --------------------------- 38.2/124.9 MB 81.8 MB/s eta 0:00:02\n",
      "   ------------- -------------------------- 42.5/124.9 MB 81.8 MB/s eta 0:00:02\n",
      "   -------------- ------------------------- 45.6/124.9 MB 81.8 MB/s eta 0:00:01\n",
      "   ---------------- ----------------------- 50.2/124.9 MB 81.8 MB/s eta 0:00:01\n",
      "   ----------------- ---------------------- 54.2/124.9 MB 81.8 MB/s eta 0:00:01\n",
      "   ------------------ --------------------- 58.5/124.9 MB 93.9 MB/s eta 0:00:01\n",
      "   -------------------- ------------------- 62.5/124.9 MB 93.9 MB/s eta 0:00:01\n",
      "   --------------------- ------------------ 66.0/124.9 MB 81.8 MB/s eta 0:00:01\n",
      "   ---------------------- ----------------- 70.1/124.9 MB 81.8 MB/s eta 0:00:01\n",
      "   ----------------------- ---------------- 74.4/124.9 MB 93.9 MB/s eta 0:00:01\n",
      "   ------------------------ --------------- 77.7/124.9 MB 93.9 MB/s eta 0:00:01\n",
      "   -------------------------- ------------- 81.7/124.9 MB 81.8 MB/s eta 0:00:01\n",
      "   -------------------------- ------------- 83.8/124.9 MB 81.8 MB/s eta 0:00:01\n",
      "   --------------------------- ------------ 87.4/124.9 MB 65.6 MB/s eta 0:00:01\n",
      "   ----------------------------- ---------- 91.2/124.9 MB 65.6 MB/s eta 0:00:01\n",
      "   ------------------------------ --------- 94.2/124.9 MB 81.8 MB/s eta 0:00:01\n",
      "   ------------------------------- -------- 98.6/124.9 MB 93.9 MB/s eta 0:00:01\n",
      "   ------------------------------- ------- 101.3/124.9 MB 72.6 MB/s eta 0:00:01\n",
      "   -------------------------------- ------ 105.7/124.9 MB 81.8 MB/s eta 0:00:01\n",
      "   --------------------------------- ----- 108.3/124.9 MB 72.6 MB/s eta 0:00:01\n",
      "   ----------------------------------- --- 112.5/124.9 MB 81.8 MB/s eta 0:00:01\n",
      "   ------------------------------------ -- 116.6/124.9 MB 81.8 MB/s eta 0:00:01\n",
      "   ------------------------------------- - 120.4/124.9 MB 81.8 MB/s eta 0:00:01\n",
      "   --------------------------------------  123.8/124.9 MB 93.0 MB/s eta 0:00:01\n",
      "   --------------------------------------- 124.9/124.9 MB 73.0 MB/s eta 0:00:00\n",
      "Installing collected packages: xgboost\n",
      "Successfully installed xgboost-2.1.2\n"
     ]
    },
    {
     "name": "stderr",
     "output_type": "stream",
     "text": [
      "WARNING: Ignoring invalid distribution -pencv-python (c:\\users\\natan\\anaconda3\\lib\\site-packages)\n",
      "WARNING: Ignoring invalid distribution -pencv-python (c:\\users\\natan\\anaconda3\\lib\\site-packages)\n"
     ]
    }
   ],
   "source": [
    "!pip install xgboost"
   ]
  },
  {
   "cell_type": "code",
   "execution_count": 46,
   "metadata": {},
   "outputs": [],
   "source": [
    "# import models and fit\n",
    "from sklearn.linear_model import LinearRegression\n",
    "from sklearn.svm import SVR\n",
    "from sklearn.ensemble import RandomForestRegressor\n",
    "import xgboost as xgb\n",
    "from sklearn.metrics import mean_squared_error, r2_score, mean_absolute_error\n",
    "import pandas as pd\n",
    "import numpy as np\n",
    "import matplotlib.pyplot as plt\n",
    "import seaborn as sns\n",
    "from sklearn.pipeline import Pipeline\n",
    "from sklearn.preprocessing import StandardScaler\n",
    "from sklearn.decomposition import PCA\n",
    "from sklearn.preprocessing import OneHotEncoder\n",
    "from sklearn.preprocessing import LabelEncoder\n",
    "from sklearn.compose import ColumnTransformer\n",
    "# load data\n",
    "train_df = pd.read_csv('../preprocessed/train_df.csv')\n",
    "test_df = pd.read_csv('../preprocessed/test_df.csv')\n",
    "\n",
    "X_train = train_df.drop(columns=['description.sold_price'])\n",
    "y_train = train_df['description.sold_price']\n",
    "X_test = test_df.drop(columns=['description.sold_price'])\n",
    "y_test = test_df['description.sold_price']\n",
    "\n",
    "numerical_features = x_train.select_dtypes(include=['float64', 'int64']).columns\n",
    "categorical_features = x_train.select_dtypes(include=['object']).columns\n",
    "boolean_features = x_train.select_dtypes(include=['bool']).columns\n",
    "\n",
    "train_df.info()"
   ]
  },
  {
   "cell_type": "code",
   "execution_count": 42,
   "metadata": {},
   "outputs": [
    {
     "ename": "KeyError",
     "evalue": "\"['location.address.postal_code'] not in index\"",
     "output_type": "error",
     "traceback": [
      "\u001b[1;31m---------------------------------------------------------------------------\u001b[0m",
      "\u001b[1;31mKeyError\u001b[0m                                  Traceback (most recent call last)",
      "Cell \u001b[1;32mIn[42], line 2\u001b[0m\n\u001b[0;32m      1\u001b[0m scaler \u001b[38;5;241m=\u001b[39m StandardScaler()\n\u001b[1;32m----> 2\u001b[0m X_train[numerical_features] \u001b[38;5;241m=\u001b[39m scaler\u001b[38;5;241m.\u001b[39mfit_transform(\u001b[43mX_train\u001b[49m\u001b[43m[\u001b[49m\u001b[43mnumerical_features\u001b[49m\u001b[43m]\u001b[49m)\n\u001b[0;32m      3\u001b[0m X_test[numerical_features] \u001b[38;5;241m=\u001b[39m scaler\u001b[38;5;241m.\u001b[39mtransform(X_test[numerical_features])\n\u001b[0;32m      5\u001b[0m \u001b[38;5;66;03m# one -hot encode categorical features\u001b[39;00m\n",
      "File \u001b[1;32m~\\anaconda3\\lib\\site-packages\\pandas\\core\\frame.py:3511\u001b[0m, in \u001b[0;36mDataFrame.__getitem__\u001b[1;34m(self, key)\u001b[0m\n\u001b[0;32m   3509\u001b[0m     \u001b[38;5;28;01mif\u001b[39;00m is_iterator(key):\n\u001b[0;32m   3510\u001b[0m         key \u001b[38;5;241m=\u001b[39m \u001b[38;5;28mlist\u001b[39m(key)\n\u001b[1;32m-> 3511\u001b[0m     indexer \u001b[38;5;241m=\u001b[39m \u001b[38;5;28;43mself\u001b[39;49m\u001b[38;5;241;43m.\u001b[39;49m\u001b[43mcolumns\u001b[49m\u001b[38;5;241;43m.\u001b[39;49m\u001b[43m_get_indexer_strict\u001b[49m\u001b[43m(\u001b[49m\u001b[43mkey\u001b[49m\u001b[43m,\u001b[49m\u001b[43m \u001b[49m\u001b[38;5;124;43m\"\u001b[39;49m\u001b[38;5;124;43mcolumns\u001b[39;49m\u001b[38;5;124;43m\"\u001b[39;49m\u001b[43m)\u001b[49m[\u001b[38;5;241m1\u001b[39m]\n\u001b[0;32m   3513\u001b[0m \u001b[38;5;66;03m# take() does not accept boolean indexers\u001b[39;00m\n\u001b[0;32m   3514\u001b[0m \u001b[38;5;28;01mif\u001b[39;00m \u001b[38;5;28mgetattr\u001b[39m(indexer, \u001b[38;5;124m\"\u001b[39m\u001b[38;5;124mdtype\u001b[39m\u001b[38;5;124m\"\u001b[39m, \u001b[38;5;28;01mNone\u001b[39;00m) \u001b[38;5;241m==\u001b[39m \u001b[38;5;28mbool\u001b[39m:\n",
      "File \u001b[1;32m~\\anaconda3\\lib\\site-packages\\pandas\\core\\indexes\\base.py:5782\u001b[0m, in \u001b[0;36mIndex._get_indexer_strict\u001b[1;34m(self, key, axis_name)\u001b[0m\n\u001b[0;32m   5779\u001b[0m \u001b[38;5;28;01melse\u001b[39;00m:\n\u001b[0;32m   5780\u001b[0m     keyarr, indexer, new_indexer \u001b[38;5;241m=\u001b[39m \u001b[38;5;28mself\u001b[39m\u001b[38;5;241m.\u001b[39m_reindex_non_unique(keyarr)\n\u001b[1;32m-> 5782\u001b[0m \u001b[38;5;28;43mself\u001b[39;49m\u001b[38;5;241;43m.\u001b[39;49m\u001b[43m_raise_if_missing\u001b[49m\u001b[43m(\u001b[49m\u001b[43mkeyarr\u001b[49m\u001b[43m,\u001b[49m\u001b[43m \u001b[49m\u001b[43mindexer\u001b[49m\u001b[43m,\u001b[49m\u001b[43m \u001b[49m\u001b[43maxis_name\u001b[49m\u001b[43m)\u001b[49m\n\u001b[0;32m   5784\u001b[0m keyarr \u001b[38;5;241m=\u001b[39m \u001b[38;5;28mself\u001b[39m\u001b[38;5;241m.\u001b[39mtake(indexer)\n\u001b[0;32m   5785\u001b[0m \u001b[38;5;28;01mif\u001b[39;00m \u001b[38;5;28misinstance\u001b[39m(key, Index):\n\u001b[0;32m   5786\u001b[0m     \u001b[38;5;66;03m# GH 42790 - Preserve name from an Index\u001b[39;00m\n",
      "File \u001b[1;32m~\\anaconda3\\lib\\site-packages\\pandas\\core\\indexes\\base.py:5845\u001b[0m, in \u001b[0;36mIndex._raise_if_missing\u001b[1;34m(self, key, indexer, axis_name)\u001b[0m\n\u001b[0;32m   5842\u001b[0m     \u001b[38;5;28;01mraise\u001b[39;00m \u001b[38;5;167;01mKeyError\u001b[39;00m(\u001b[38;5;124mf\u001b[39m\u001b[38;5;124m\"\u001b[39m\u001b[38;5;124mNone of [\u001b[39m\u001b[38;5;132;01m{\u001b[39;00mkey\u001b[38;5;132;01m}\u001b[39;00m\u001b[38;5;124m] are in the [\u001b[39m\u001b[38;5;132;01m{\u001b[39;00maxis_name\u001b[38;5;132;01m}\u001b[39;00m\u001b[38;5;124m]\u001b[39m\u001b[38;5;124m\"\u001b[39m)\n\u001b[0;32m   5844\u001b[0m not_found \u001b[38;5;241m=\u001b[39m \u001b[38;5;28mlist\u001b[39m(ensure_index(key)[missing_mask\u001b[38;5;241m.\u001b[39mnonzero()[\u001b[38;5;241m0\u001b[39m]]\u001b[38;5;241m.\u001b[39munique())\n\u001b[1;32m-> 5845\u001b[0m \u001b[38;5;28;01mraise\u001b[39;00m \u001b[38;5;167;01mKeyError\u001b[39;00m(\u001b[38;5;124mf\u001b[39m\u001b[38;5;124m\"\u001b[39m\u001b[38;5;132;01m{\u001b[39;00mnot_found\u001b[38;5;132;01m}\u001b[39;00m\u001b[38;5;124m not in index\u001b[39m\u001b[38;5;124m\"\u001b[39m)\n",
      "\u001b[1;31mKeyError\u001b[0m: \"['location.address.postal_code'] not in index\""
     ]
    }
   ],
   "source": [
    "scaler = StandardScaler()\n",
    "X_train[numerical_features] = scaler.fit_transform(X_train[numerical_features])\n",
    "X_test[numerical_features] = scaler.transform(X_test[numerical_features])\n",
    "\n",
    "# one -hot encode categorical features\n",
    "encoder = OneHotEncoder(drop='first', handle_unknown='ignore')\n",
    "X_train_encoded = encoder.fit_transform(X_train[categorical_features]).toarray()\n",
    "X_test_encoded = encoder.transform(X_test[categorical_features]).toarray()\n",
    "\n",
    "# recombine numerical and encoded categorical data\n",
    "X_train_final = np.hstack([X_train[numerical_features].values, X_train_encoded])\n",
    "X_test_final = np.hstack([X_test[numerical_features].values, X_test_encoded])"
   ]
  },
  {
   "cell_type": "code",
   "execution_count": 40,
   "metadata": {},
   "outputs": [
    {
     "name": "stdout",
     "output_type": "stream",
     "text": [
      "Linear Regression Performance Metrics:\n",
      "Mean Absolute Error (MAE): 50319.05\n",
      "Mean Squared Error (MSE): 11370700813.28\n",
      "Root Mean Squared Error (RMSE): 106633.49\n",
      "R-squared (R²): 0.95\n"
     ]
    }
   ],
   "source": [
    "# training linear regression model\n",
    "model = LinearRegression()\n",
    "model.fit(X_train_final, y_train)\n",
    "\n",
    "# test set prediciton\n",
    "y_pred = model.predict(X_test_final)\n",
    "\n",
    "# model evaluation\n",
    "mae = mean_absolute_error(y_test, y_pred)\n",
    "mse = mean_squared_error(y_test, y_pred)\n",
    "rmse = mean_squared_error(y_test, y_pred, squared=False)\n",
    "r2 = r2_score(y_test, y_pred)\n",
    "\n",
    "print(\"Linear Regression Performance Metrics:\")\n",
    "print(f\"Mean Absolute Error (MAE): {mae:.2f}\")\n",
    "print(f\"Mean Squared Error (MSE): {mse:.2f}\")\n",
    "print(f\"Root Mean Squared Error (RMSE): {rmse:.2f}\")\n",
    "print(f\"R-squared (R²): {r2:.2f}\")"
   ]
  },
  {
   "cell_type": "code",
   "execution_count": 26,
   "metadata": {},
   "outputs": [
    {
     "name": "stdout",
     "output_type": "stream",
     "text": [
      "Random Forest Performance Metrics:\n",
      "Mean Absolute Error (MAE): 11885.42\n",
      "Mean Squared Error (MSE): 64101191489.14\n",
      "Root Mean Squared Error (RMSE): 253182.13\n",
      "R-squared (R²): 0.73\n"
     ]
    }
   ],
   "source": [
    "# random forest regressor\n",
    "rf_model = RandomForestRegressor()  # You can tune n_estimators and other hyperparameters\n",
    "rf_model.fit(X_train_final, y_train)\n",
    "\n",
    "# predict on the test set\n",
    "y_pred_rf = rf_model.predict(X_test_final)\n",
    "\n",
    "# evaluation metrics\n",
    "mae_rf = mean_absolute_error(y_test, y_pred_rf)\n",
    "mse_rf = mean_squared_error(y_test, y_pred_rf)\n",
    "rmse_rf = mean_squared_error(y_test, y_pred_rf, squared=False)\n",
    "r2_rf = r2_score(y_test, y_pred_rf)\n",
    "\n",
    "print(\"Random Forest Performance Metrics:\")\n",
    "print(f\"Mean Absolute Error (MAE): {mae_rf:.2f}\")\n",
    "print(f\"Mean Squared Error (MSE): {mse_rf:.2f}\")\n",
    "print(f\"Root Mean Squared Error (RMSE): {rmse_rf:.2f}\")\n",
    "print(f\"R-squared (R²): {r2_rf:.2f}\")"
   ]
  },
  {
   "cell_type": "code",
   "execution_count": 25,
   "metadata": {},
   "outputs": [
    {
     "name": "stdout",
     "output_type": "stream",
     "text": [
      "Support Vector Regressor Performance Metrics:\n",
      "Mean Absolute Error (MAE): 218109.94\n",
      "Mean Squared Error (MSE): 242384356386.81\n",
      "Root Mean Squared Error (RMSE): 492325.46\n",
      "R-squared (R²): -0.03\n"
     ]
    }
   ],
   "source": [
    "# svm\n",
    "svr_model = SVR(kernel='poly')  \n",
    "svr_model.fit(X_train_final, y_train)\n",
    "\n",
    "# predict on the test set\n",
    "y_pred_svr = svr_model.predict(X_test_final)\n",
    "\n",
    "# evaluate the svr model\n",
    "mae_svr = mean_absolute_error(y_test, y_pred_svr)\n",
    "mse_svr = mean_squared_error(y_test, y_pred_svr)\n",
    "rmse_svr = mean_squared_error(y_test, y_pred_svr, squared=False)\n",
    "r2_svr = r2_score(y_test, y_pred_svr)\n",
    "\n",
    "print(\"Support Vector Regressor Performance Metrics:\")\n",
    "print(f\"Mean Absolute Error (MAE): {mae_svr:.2f}\")\n",
    "print(f\"Mean Squared Error (MSE): {mse_svr:.2f}\")\n",
    "print(f\"Root Mean Squared Error (RMSE): {rmse_svr:.2f}\")\n",
    "print(f\"R-squared (R²): {r2_svr:.2f}\")"
   ]
  },
  {
   "cell_type": "code",
   "execution_count": 27,
   "metadata": {},
   "outputs": [
    {
     "name": "stdout",
     "output_type": "stream",
     "text": [
      "XGBoost Performance Metrics:\n",
      "Mean Absolute Error (MAE): 12137.33\n",
      "Mean Squared Error (MSE): 58421407995.97\n",
      "Root Mean Squared Error (RMSE): 241705.21\n",
      "R-squared (R²): 0.75\n"
     ]
    }
   ],
   "source": [
    "#xgboost\n",
    "xgb_model = xgb.XGBRegressor()  \n",
    "xgb_model.fit(X_train_final, y_train)\n",
    "\n",
    "# predict on the test set\n",
    "y_pred_xgb = xgb_model.predict(X_test_final)\n",
    "\n",
    "# evaluate the XGBoost model\n",
    "mae_xgb = mean_absolute_error(y_test, y_pred_xgb)\n",
    "mse_xgb = mean_squared_error(y_test, y_pred_xgb)\n",
    "rmse_xgb = mean_squared_error(y_test, y_pred_xgb, squared=False)\n",
    "r2_xgb = r2_score(y_test, y_pred_xgb)\n",
    "\n",
    "print(\"XGBoost Performance Metrics:\")\n",
    "print(f\"Mean Absolute Error (MAE): {mae_xgb:.2f}\")\n",
    "print(f\"Mean Squared Error (MSE): {mse_xgb:.2f}\")\n",
    "print(f\"Root Mean Squared Error (RMSE): {rmse_xgb:.2f}\")\n",
    "print(f\"R-squared (R²): {r2_xgb:.2f}\")"
   ]
  },
  {
   "cell_type": "code",
   "execution_count": 28,
   "metadata": {},
   "outputs": [
    {
     "data": {
      "image/png": "[encoded data removed]",
      "text/plain": [
       "<Figure size 1000x600 with 1 Axes>"
      ]
     },
     "metadata": {},
     "output_type": "display_data"
    }
   ],
   "source": [
    "# visualize y_test, y_preds\n",
    "plt.figure(figsize=(10, 6))\n",
    "sns.scatterplot(x=y_test, y=y_pred, color='blue', alpha=0.6)\n",
    "sns.lineplot(x=y_test, y=y_test, color='red', linestyle='--', label='Perfect Prediction') # Diagonal line for reference\n",
    "plt.xlabel('Actual Values (y_test)')\n",
    "plt.ylabel('Predicted Values (y_pred)')\n",
    "plt.title('Actual vs Predicted Values')\n",
    "plt.legend()\n",
    "plt.show()"
   ]
  },
  {
   "cell_type": "code",
   "execution_count": 9,
   "metadata": {},
   "outputs": [],
   "source": []
  },
  {
   "cell_type": "code",
   "execution_count": 10,
   "metadata": {},
   "outputs": [
    {
     "name": "stdout",
     "output_type": "stream",
     "text": [
      "618329083728.008\n",
      "170574.61621332404\n",
      "0.07106832932860896\n"
     ]
    }
   ],
   "source": []
  },
  {
   "cell_type": "code",
   "execution_count": 11,
   "metadata": {},
   "outputs": [
    {
     "name": "stdout",
     "output_type": "stream",
     "text": [
      "617839820230.9951\n",
      "170387.02795746463\n",
      "0.07180336245197205\n"
     ]
    }
   ],
   "source": []
  },
  {
   "cell_type": "markdown",
   "metadata": {},
   "source": [
    "Consider what metrics you want to use to evaluate success.\n",
    "- If you think about mean squared error, can we actually relate to the amount of error?\n",
    "- Try root mean squared error so that error is closer to the original units (dollars)\n",
    "- What does RMSE do to outliers?\n",
    "- Is mean absolute error a good metric for this problem?\n",
    "- What about R^2? Adjusted R^2?\n",
    "- Briefly describe your reasons for picking the metrics you use"
   ]
  },
  {
   "cell_type": "code",
   "execution_count": 6,
   "metadata": {},
   "outputs": [],
   "source": [
    "# gather evaluation metrics and compare results"
   ]
  },
  {
   "cell_type": "markdown",
   "metadata": {},
   "source": [
    "## Feature Selection - STRETCH\n",
    "\n",
    "> **This step doesn't need to be part of your Minimum Viable Product (MVP), but its recommended you complete it if you have time!**\n",
    "\n",
    "Even with all the preprocessing we did in Notebook 1, you probably still have a lot of features. Are they all important for prediction?\n",
    "\n",
    "Investigate some feature selection algorithms (Lasso, RFE, Forward/Backward Selection)\n",
    "- Perform feature selection to get a reduced subset of your original features\n",
    "- Refit your models with this reduced dimensionality - how does performance change on your chosen metrics?\n",
    "- Based on this, should you include feature selection in your final pipeline? Explain\n",
    "\n",
    "Remember, feature selection often doesn't directly improve performance, but if performance remains the same, a simpler model is often preferrable. \n",
    "\n"
   ]
  },
  {
   "cell_type": "code",
   "execution_count": 14,
   "metadata": {},
   "outputs": [
    {
     "name": "stdout",
     "output_type": "stream",
     "text": [
      "Best parameters found:  {'fs__k': 180, 'model__fit_intercept': True}\n",
      "Best cross-validation score:  0.8963785738281007\n",
      "Mean Squared Error: 546320331254.04694\n",
      "Mean Absolute Error: 65913.91139240506\n",
      "R^2 Score: 0.17924892846087248\n"
     ]
    }
   ],
   "source": []
  },
  {
   "cell_type": "code",
   "execution_count": 33,
   "metadata": {},
   "outputs": [
    {
     "name": "stderr",
     "output_type": "stream",
     "text": [
      "/opt/anaconda3/envs/LHL/lib/python3.11/site-packages/sklearn/model_selection/_validation.py:540: FitFailedWarning: \n",
      "30 fits failed out of a total of 60.\n",
      "The score on these train-test partitions for these parameters will be set to nan.\n",
      "If these failures are not expected, you can try to debug them by setting error_score='raise'.\n",
      "\n",
      "Below are more details about the failures:\n",
      "--------------------------------------------------------------------------------\n",
      "30 fits failed with the following error:\n",
      "Traceback (most recent call last):\n",
      "  File \"/opt/anaconda3/envs/LHL/lib/python3.11/site-packages/sklearn/model_selection/_validation.py\", line 888, in _fit_and_score\n",
      "    estimator.fit(X_train, y_train, **fit_params)\n",
      "  File \"/opt/anaconda3/envs/LHL/lib/python3.11/site-packages/sklearn/base.py\", line 1473, in wrapper\n",
      "    return fit_method(estimator, *args, **kwargs)\n",
      "           ^^^^^^^^^^^^^^^^^^^^^^^^^^^^^^^^^^^^^^\n",
      "  File \"/opt/anaconda3/envs/LHL/lib/python3.11/site-packages/sklearn/pipeline.py\", line 473, in fit\n",
      "    self._final_estimator.fit(Xt, y, **last_step_params[\"fit\"])\n",
      "  File \"/opt/anaconda3/envs/LHL/lib/python3.11/site-packages/sklearn/base.py\", line 1466, in wrapper\n",
      "    estimator._validate_params()\n",
      "  File \"/opt/anaconda3/envs/LHL/lib/python3.11/site-packages/sklearn/base.py\", line 666, in _validate_params\n",
      "    validate_parameter_constraints(\n",
      "  File \"/opt/anaconda3/envs/LHL/lib/python3.11/site-packages/sklearn/utils/_param_validation.py\", line 95, in validate_parameter_constraints\n",
      "    raise InvalidParameterError(\n",
      "sklearn.utils._param_validation.InvalidParameterError: The 'C' parameter of SVR must be a float in the range (0.0, inf). Got False instead.\n",
      "\n",
      "  warnings.warn(some_fits_failed_message, FitFailedWarning)\n",
      "/opt/anaconda3/envs/LHL/lib/python3.11/site-packages/sklearn/model_selection/_search.py:1102: UserWarning: One or more of the test scores are non-finite: [-0.04602343         nan -0.04605393         nan -0.04607171         nan\n",
      " -0.04609251         nan -0.04611183         nan -0.0461194          nan]\n",
      "  warnings.warn(\n"
     ]
    },
    {
     "name": "stdout",
     "output_type": "stream",
     "text": [
      "Best parameters found:  {'fs__k': 90, 'model__C': True}\n",
      "Best cross-validation score:  -0.04602343008841343\n",
      "Mean Squared Error: 676841446287.0402\n",
      "Mean Absolute Error: 236513.0231623813\n",
      "R^2 Score: -0.016836296439893816\n"
     ]
    }
   ],
   "source": []
  },
  {
   "cell_type": "code",
   "execution_count": 17,
   "metadata": {},
   "outputs": [
    {
     "name": "stdout",
     "output_type": "stream",
     "text": [
      "Best parameters found:  {'fs__k': 50, 'model__max_depth': 40, 'model__n_estimators': 100}\n",
      "Best cross-validation score:  0.46942166975893435\n",
      "618422074192.981\n",
      "172616.2936230366\n",
      "0.0709286273636569\n"
     ]
    }
   ],
   "source": []
  },
  {
   "cell_type": "code",
   "execution_count": 18,
   "metadata": {},
   "outputs": [
    {
     "name": "stdout",
     "output_type": "stream",
     "text": [
      "Best parameters found:  {'fs__k': 50, 'model__learning_rate': 0.3, 'model__max_depth': 10, 'model__n_estimators': 100}\n",
      "Best cross-validation score:  0.47037076064361455\n",
      "Mean Squared Error: 617434804993.8838\n",
      "Mean Absolute Error: 170709.48518649943\n",
      "R^2 Score: 0.07241182724969575\n"
     ]
    }
   ],
   "source": []
  },
  {
   "cell_type": "markdown",
   "metadata": {},
   "source": []
  }
 ],
 "metadata": {
  "kernelspec": {
   "display_name": "Python 3 (ipykernel)",
   "language": "python",
   "name": "python3"
  },
  "language_info": {
   "codemirror_mode": {
    "name": "ipython",
    "version": 3
   },
   "file_extension": ".py",
   "mimetype": "text/x-python",
   "name": "python",
   "nbconvert_exporter": "python",
   "pygments_lexer": "ipython3",
   "version": "3.9.19"
  }
 },
 "nbformat": 4,
 "nbformat_minor": 4
}

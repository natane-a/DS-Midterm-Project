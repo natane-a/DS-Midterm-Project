{
 "cells": [
  {
   "cell_type": "markdown",
   "metadata": {},
   "source": [
    "## Hyperparam Tuning\n",
    "\n",
    "Now that we know which models are performing better, it's time to perform cross validation and tune hyperparameters.\n",
    "- Do a google search for hyperparameter ranges for each type of model.\n",
    "\n",
    "GridSearch/RandomSearch are a great methods for checking off both of these tasks.\n",
    "\n",
    "There is a fairly significant issue with this approach for this particular problem (described below). But in the interest of creating a basic functional pipeline, you can just use the default Sklearn methods for now.\n",
    "\n",
    "## Preventing Data Leakage in Tuning - STRETCH\n",
    "\n",
    "> **This step doesn't need to be part of your Minimum Viable Product (MVP), but its highly recommended you complete it, if you have time!**\n",
    "\n",
    "BUT we have a problem - if we calculated a numerical value to encode city (such as the mean of sale prices in that city) on the training data, we can't cross validate \n",
    "- The rows in each validation fold were part of the original calculation of the mean for that city - that means we're leaking information!\n",
    "- While sklearn's built in functions are extremely useful, sometimes it is necessary to do things ourselves\n",
    "\n",
    "You need to create two functions to replicate what Gridsearch does under the hood. This is a challenging, real world data problem! To help you out, we've created some psuedocode and docstrings to get you started. \n",
    "\n",
    "**`custom_cross_validation()`**\n",
    "- Should take the training data, and divide it into multiple train/validation splits. \n",
    "- Look into `sklearn.model_selection.KFold` to accomplish this - the [documentation](https://scikit-learn.org/stable/modules/generated/sklearn.model_selection.KFold.html) shows how to split a dataframe and loop through the indexes of your split data. \n",
    "- Within your function, you should compute the city means on the training folds just like you did in Notebook 1 - you may have to re-join the city column to do this - and then join these values to the validation fold\n",
    "\n",
    "This psuedocode may help you fill in the function:\n",
    "\n",
    "```python\n",
    "kfold = KFold() # fit sklearn k folds on X_train\n",
    "train_folds = []\n",
    "val_folds = []\n",
    "for training_index, val_index in kfold.split(X_train):\n",
    "    train_fold, val_fold = #.iloc loop variables on X_train\n",
    "\n",
    "    # recompute training city means like you did in notebook 1 \n",
    "    # merge to validation fold\n",
    "        \n",
    "    train_folds.append(train_fold)\n",
    "    val_folds.append(val_fold)\n",
    "\n",
    "    return train_folds, val_folds\n",
    "```\n",
    "\n",
    "\n",
    "**`hyperparameter_search()`**\n",
    "- Should take the validation and training splits from your previous function, along with your dictionary of hyperparameter values\n",
    "- For each set of hyperparameter values, fit your chosen model on each set of training folds, and take the average of your chosen scoring metric. [itertools.product()](https://docs.python.org/3/library/itertools.html) will be helpful for looping through all combinations of hyperparameter values\n",
    "- Your function should output the hyperparameter values corresponding the highest average score across all folds. Alternatively, it could also output a model object fit on the full training dataset with these parameters.\n",
    "\n",
    "\n",
    "This psuedocode may help you fill in the function:\n",
    "\n",
    "```python\n",
    "hyperparams = # Generate hyperparam options with itertools\n",
    "hyperparam-scores = []\n",
    "for hyperparam-combo in hyperparams:\n",
    "\n",
    "    scores = []\n",
    "\n",
    "    for folds in allmyfolds:\n",
    "        # score fold the fold with the model/ hyperparams\n",
    "        scores.append(score-fold)\n",
    "        \n",
    "    score = scores.mean()\n",
    "    hyperparam-scores.append(score)\n",
    "# After loop, find max of hyperparam-scores. Best params are at same index in `hyperparams` loop iteratble\n",
    "```\n",
    "\n",
    "Docstrings have been provided below to get you started. Once you're done developing your functions, you should move them to `functions_variables.py` to keep your notebook clean \n",
    "\n",
    "Bear in mind that these instructions are just one way to tackle this problem - the inputs and output formats don't need to be exactly as specified here."
   ]
  },
  {
   "cell_type": "code",
   "execution_count": 61,
   "metadata": {},
   "outputs": [],
   "source": [
    "# importing necessary packages\n",
    "from sklearn.linear_model import LinearRegression\n",
    "from sklearn.model_selection import GridSearchCV, RandomizedSearchCV\n",
    "from sklearn.ensemble import GradientBoostingRegressor\n",
    "from sklearn.linear_model import Ridge\n",
    "from sklearn.svm import SVR\n",
    "from sklearn.ensemble import RandomForestRegressor\n",
    "import xgboost as xgb\n",
    "from sklearn.metrics import mean_squared_error, r2_score, mean_absolute_error, make_scorer\n",
    "import pandas as pd\n",
    "import numpy as np\n",
    "import matplotlib.pyplot as plt\n",
    "import seaborn as sns\n",
    "from sklearn.pipeline import Pipeline\n",
    "from sklearn.preprocessing import StandardScaler, PolynomialFeatures\n",
    "from sklearn.decomposition import PCA\n",
    "from sklearn.preprocessing import OneHotEncoder\n",
    "from sklearn.preprocessing import LabelEncoder\n",
    "from sklearn.compose import ColumnTransformer\n",
    "from sklearn.model_selection import KFold\n",
    "import itertools\n",
    "import pickle\n",
    "import os"
   ]
  },
  {
   "cell_type": "code",
   "execution_count": 63,
   "metadata": {},
   "outputs": [
    {
     "name": "stdout",
     "output_type": "stream",
     "text": [
      "0\n"
     ]
    },
    {
     "data": {
      "text/plain": [
       "0"
      ]
     },
     "execution_count": 63,
     "metadata": {},
     "output_type": "execute_result"
    }
   ],
   "source": [
    "# loading dataset\n",
    "train_df = pd.read_csv('../preprocessed/train_df.csv')\n",
    "test_df = pd.read_csv('../preprocessed/test_df.csv')\n",
    "\n",
    "# X,y split\n",
    "X_train = train_df.drop(columns=['description.sold_price'])\n",
    "y_train = train_df['description.sold_price']\n",
    "X_test = test_df.drop(columns=['description.sold_price'])\n",
    "y_test = test_df['description.sold_price']\n",
    "\n",
    "# removing outliers\n",
    "index_outliers = y_test[y_test > 2000000].index\n",
    "print(len(index_outliers))\n",
    "X_test = X_test.drop(index_outliers)\n",
    "y_test = y_test.drop(index_outliers)\n",
    "\n",
    "y_train.isnull().sum()"
   ]
  },
  {
   "cell_type": "markdown",
   "metadata": {},
   "source": [
    "## Hyperparam Tuning"
   ]
  },
  {
   "cell_type": "code",
   "execution_count": 64,
   "metadata": {},
   "outputs": [],
   "source": [
    "# identifying feature types\n",
    "numerical_features = X_train.select_dtypes(include=['float64', 'int64']).columns\n",
    "categorical_features = X_train.select_dtypes(include=['object']).columns\n",
    "boolean_features = X_train.select_dtypes(include=['bool']).columns\n",
    "\n",
    "# defining preprcessing steps\n",
    "numerical_transformer = Pipeline(steps=[\n",
    "    ('scaler', StandardScaler())\n",
    "])\n",
    "\n",
    "categorical_transformer = Pipeline(steps=[\n",
    "    ('onehot', OneHotEncoder(drop='first', handle_unknown='ignore'))\n",
    "])\n",
    "\n",
    "boolean_transformer = Pipeline(steps=[\n",
    "    ('onehot', OneHotEncoder(drop='if_binary'))\n",
    "])\n",
    "\n",
    "# combing preprocessing steps\n",
    "preprocessor = ColumnTransformer(\n",
    "    transformers=[\n",
    "        ('num', numerical_transformer, numerical_features),\n",
    "        ('cat', categorical_transformer, categorical_features),\n",
    "        ('bool', boolean_transformer, boolean_features)\n",
    "    ]\n",
    ")"
   ]
  },
  {
   "cell_type": "code",
   "execution_count": 65,
   "metadata": {},
   "outputs": [],
   "source": [
    "# defining rmse scoring function\n",
    "def rmse(y_true, y_pred):\n",
    "    return mean_squared_error(y_true, y_pred, squared=False)\n",
    "rmse_scorer = make_scorer(rmse, greater_is_better=False)\n",
    "\n",
    "# defining model pipelines \n",
    "models = {\n",
    "    'ridge': Ridge(),\n",
    "    'random_forest': RandomForestRegressor(),\n",
    "    'svm': SVR(),\n",
    "    'gradient_boosting': GradientBoostingRegressor(),\n",
    "    'xgboost': xgb.XGBRegressor()\n",
    "}\n",
    "\n",
    "param_grids = {\n",
    "    'ridge': {\n",
    "        'model__alpha': [0.1, 1, 10, 100]\n",
    "    },\n",
    "    'random_forest': {\n",
    "        'model__n_estimators': [100, 200],\n",
    "        'model__max_depth': [10, 20, None],\n",
    "        'model__min_samples_split': [2, 5, 10]\n",
    "    },\n",
    "    'svm': {\n",
    "        'model__C': [0.1, 1, 10],\n",
    "        'model__kernel': ['linear', 'rbf'],\n",
    "        'model__gamma': ['scale', 'auto']\n",
    "    },\n",
    "    'gradient_boosting': {\n",
    "        'model__n_estimators': [100, 200],\n",
    "        'model__learning_rate': [0.01, 0.1, 0.2],\n",
    "        'model__max_depth': [3, 5, 7]\n",
    "    },\n",
    "    'xgboost': {\n",
    "        'model__n_estimators': [100, 200],\n",
    "        'model__learning_rate': [0.01, 0.1, 0.2],\n",
    "        'model__max_depth': [3, 5, 7],\n",
    "        'model__subsample': [0.8, 1.0],\n",
    "        'model__colsample_bytree': [0.8, 1.0]\n",
    "    }\n",
    "}"
   ]
  },
  {
   "cell_type": "code",
   "execution_count": 66,
   "metadata": {},
   "outputs": [
    {
     "name": "stderr",
     "output_type": "stream",
     "text": [
      "C:\\Users\\Natan\\anaconda3\\lib\\site-packages\\sklearn\\model_selection\\_search.py:307: UserWarning: The total space of parameters 4 is smaller than n_iter=72. Running 4 iterations. For exhaustive searches, use GridSearchCV.\n",
      "  warnings.warn(\n"
     ]
    },
    {
     "name": "stdout",
     "output_type": "stream",
     "text": [
      "Best parameters for ridge: {'model__alpha': 0.1}\n",
      "Best cross-validated R2 for ridge: 0.88022\n"
     ]
    },
    {
     "name": "stderr",
     "output_type": "stream",
     "text": [
      "C:\\Users\\Natan\\anaconda3\\lib\\site-packages\\sklearn\\model_selection\\_search.py:307: UserWarning: The total space of parameters 18 is smaller than n_iter=72. Running 18 iterations. For exhaustive searches, use GridSearchCV.\n",
      "  warnings.warn(\n"
     ]
    },
    {
     "name": "stdout",
     "output_type": "stream",
     "text": [
      "Best parameters for random_forest: {'model__n_estimators': 200, 'model__min_samples_split': 2, 'model__max_depth': None}\n",
      "Best cross-validated R2 for random_forest: 0.98920\n"
     ]
    },
    {
     "name": "stderr",
     "output_type": "stream",
     "text": [
      "C:\\Users\\Natan\\anaconda3\\lib\\site-packages\\sklearn\\model_selection\\_search.py:307: UserWarning: The total space of parameters 12 is smaller than n_iter=72. Running 12 iterations. For exhaustive searches, use GridSearchCV.\n",
      "  warnings.warn(\n"
     ]
    },
    {
     "name": "stdout",
     "output_type": "stream",
     "text": [
      "Best parameters for svm: {'model__kernel': 'linear', 'model__gamma': 'scale', 'model__C': 10}\n",
      "Best cross-validated R2 for svm: 0.41067\n"
     ]
    },
    {
     "name": "stderr",
     "output_type": "stream",
     "text": [
      "C:\\Users\\Natan\\anaconda3\\lib\\site-packages\\sklearn\\model_selection\\_search.py:307: UserWarning: The total space of parameters 18 is smaller than n_iter=72. Running 18 iterations. For exhaustive searches, use GridSearchCV.\n",
      "  warnings.warn(\n"
     ]
    },
    {
     "name": "stdout",
     "output_type": "stream",
     "text": [
      "Best parameters for gradient_boosting: {'model__n_estimators': 100, 'model__max_depth': 7, 'model__learning_rate': 0.2}\n",
      "Best cross-validated R2 for gradient_boosting: 0.98984\n",
      "Best parameters for xgboost: {'model__subsample': 0.8, 'model__n_estimators': 200, 'model__max_depth': 7, 'model__learning_rate': 0.2, 'model__colsample_bytree': 0.8}\n",
      "Best cross-validated R2 for xgboost: 0.99010\n"
     ]
    }
   ],
   "source": [
    "# looping over models and performing gridsearchcv\n",
    "best_estimators = {}\n",
    "for model_name, model in models.items():\n",
    "    pipeline = Pipeline(steps=[\n",
    "        ('preprocessor', preprocessor),\n",
    "        #('poly_features', PolynomialFeatures(degree=3)),\n",
    "        ('model', model)\n",
    "    ])\n",
    "    \n",
    "    # setting up gridsearchcv with cross validation\n",
    "    '''\n",
    "    grid_search = GridSearchCV(estimator=pipeline,\n",
    "                              param_grid=param_grids[model_name],\n",
    "                              cv=5,\n",
    "                              scoring={'r2': 'r2', 'rmse': rmse_scorer},\n",
    "                              n_jobs=-1,\n",
    "                              refit='r2')\n",
    "                              \n",
    "    grid_search.fit(X_train, y_train)\n",
    "    best_estimators[model_name] = grid_search.best_estimator_\n",
    "    '''\n",
    "    # setting up randomsearchcv with cross validation\n",
    "    randomized_search = RandomizedSearchCV(estimator=pipeline,\n",
    "                                           param_distributions=param_grids[model_name],  \n",
    "                                           n_iter=72,  \n",
    "                                           cv=5,  \n",
    "                                           scoring={'r2': 'r2'},  \n",
    "                                           refit='r2',  \n",
    "                                           n_jobs=-1,  \n",
    "                                           random_state=42)\n",
    "\n",
    "    randomized_search.fit(X_train, y_train)\n",
    "    best_estimators[model_name] = randomized_search.best_estimator_\n",
    "    \n",
    "    # best parameters and score for each model\n",
    "    print(f\"Best parameters for {model_name}: {randomized_search.best_params_}\")\n",
    "    print(f\"Best cross-validated R2 for {model_name}: {randomized_search.best_score_:.5f}\")"
   ]
  },
  {
   "cell_type": "code",
   "execution_count": 67,
   "metadata": {},
   "outputs": [
    {
     "name": "stdout",
     "output_type": "stream",
     "text": [
      "Model: ridge\n",
      "  Test R^2 Score: 0.91252\n",
      "  Test RMSE: 80994.67\n",
      "\n",
      "Model: random_forest\n",
      "  Test R^2 Score: 0.98982\n",
      "  Test RMSE: 27628.42\n",
      "\n",
      "Model: svm\n",
      "  Test R^2 Score: 0.46317\n",
      "  Test RMSE: 200645.40\n",
      "\n",
      "Model: gradient_boosting\n",
      "  Test R^2 Score: 0.98994\n",
      "  Test RMSE: 27462.38\n",
      "\n",
      "Model: xgboost\n",
      "  Test R^2 Score: 0.98789\n",
      "  Test RMSE: 30135.75\n",
      "\n"
     ]
    }
   ],
   "source": [
    "# retraining the best model on entire training set and evaluating on test set\n",
    "for model_name, best_model in best_estimators.items():\n",
    "    best_model.fit(X_train, y_train) \n",
    "\n",
    "    # predict on the test set\n",
    "    y_pred = best_model.predict(X_test)\n",
    "\n",
    "    # evaluate model performance\n",
    "    test_r2 = r2_score(y_test, y_pred)\n",
    "    test_rmse = rmse(y_test, y_pred)\n",
    "\n",
    "    # print evaluation results\n",
    "    print(f\"Model: {model_name}\")\n",
    "    print(f\"  Test R^2 Score: {test_r2:.5f}\")\n",
    "    print(f\"  Test RMSE: {test_rmse:.2f}\\n\")"
   ]
  },
  {
   "cell_type": "markdown",
   "metadata": {},
   "source": [
    "We want to make sure that we save our models.  In the old days, one just simply pickled (serialized) the model.  Now, however, certain model types have their own save format.  If the model is from sklearn, it can be pickled, if it's xgboost, for example, the newest format to save it in is JSON, but it can also be pickled.  It's a good idea to stay with the most current methods. \n",
    "- you may want to create a new `models/` subdirectory in your repo to stay organized"
   ]
  },
  {
   "cell_type": "code",
   "execution_count": 54,
   "metadata": {},
   "outputs": [],
   "source": [
    "# saving best model\n",
    "with open('../models/best_model.pk1', 'wb') as file:\n",
    "    pickle.dump(grid_search.best_estimator_, file)"
   ]
  },
  {
   "cell_type": "code",
   "execution_count": null,
   "metadata": {},
   "outputs": [],
   "source": []
  },
  {
   "cell_type": "markdown",
   "metadata": {},
   "source": [
    "## Building a Pipeline (Stretch)\n",
    "\n",
    "> **This step doesn't need to be part of your Minimum Viable Product (MVP), but its highly recommended you complete it if you have time!**\n",
    "\n",
    "Once you've identified which model works the best, implement a prediction pipeline to make sure that you haven't leaked any data, and that the model could be easily deployed if desired.\n",
    "- Your pipeline should load the data, process it, load your saved tuned model, and output a set of predictions\n",
    "- Assume that the new data is in the same JSON format as your original data - you can use your original data to check that the pipeline works correctly\n",
    "- Beware that a pipeline can only handle functions with fit and transform methods.\n",
    "- Classes can be used to get around this, but now sklearn has a wrapper for user defined functions.\n",
    "- You can develop your functions or classes in the notebook here, but once they are working, you should import them from `functions_variables.py` "
   ]
  },
  {
   "cell_type": "code",
   "execution_count": null,
   "metadata": {},
   "outputs": [],
   "source": [
    "# Build pipeline here"
   ]
  },
  {
   "cell_type": "markdown",
   "metadata": {},
   "source": [
    "Pipelines come from sklearn.  When a pipeline is pickled, all of the information in the pipeline is stored with it.  For example, if we were deploying a model, and we had fit a scaler on the training data, we would want the same, already fitted scaling object to transform the new data with.  This is all stored when the pipeline is pickled.\n",
    "- save your final pipeline in your `models/` folder"
   ]
  },
  {
   "cell_type": "code",
   "execution_count": null,
   "metadata": {},
   "outputs": [],
   "source": [
    "# save your pipeline here"
   ]
  }
 ],
 "metadata": {
  "kernelspec": {
   "display_name": "Python 3 (ipykernel)",
   "language": "python",
   "name": "python3"
  },
  "language_info": {
   "codemirror_mode": {
    "name": "ipython",
    "version": 3
   },
   "file_extension": ".py",
   "mimetype": "text/x-python",
   "name": "python",
   "nbconvert_exporter": "python",
   "pygments_lexer": "ipython3",
   "version": "3.9.19"
  }
 },
 "nbformat": 4,
 "nbformat_minor": 4
}

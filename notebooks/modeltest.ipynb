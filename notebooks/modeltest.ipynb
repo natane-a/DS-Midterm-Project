{
 "cells": [
  {
   "cell_type": "code",
   "execution_count": 28,
   "metadata": {},
   "outputs": [],
   "source": [
    "import pandas as pd\n",
    "\n",
    "train = pd.read_csv('../preprocessed/train_df.csv')\n",
    "test = pd.read_csv('../preprocessed/test_df.csv')\n"
   ]
  },
  {
   "cell_type": "code",
   "execution_count": 29,
   "metadata": {},
   "outputs": [
    {
     "name": "stdout",
     "output_type": "stream",
     "text": [
      "<class 'pandas.core.frame.DataFrame'>\n",
      "RangeIndex: 5352 entries, 0 to 5351\n",
      "Data columns (total 41 columns):\n",
      " #   Column                                 Non-Null Count  Dtype  \n",
      "---  ------                                 --------------  -----  \n",
      " 0   list_price                             5352 non-null   float64\n",
      " 1   price_reduced_amount                   5352 non-null   float64\n",
      " 2   description.year_built                 5352 non-null   int64  \n",
      " 3   description.baths_3qtr                 5352 non-null   float64\n",
      " 4   description.sold_price                 5352 non-null   float64\n",
      " 5   description.baths_full                 5352 non-null   float64\n",
      " 6   description.baths_half                 5352 non-null   float64\n",
      " 7   description.lot_sqft                   5352 non-null   float64\n",
      " 8   description.sqft                       5352 non-null   float64\n",
      " 9   description.baths                      5352 non-null   float64\n",
      " 10  description.sub_type                   5352 non-null   object \n",
      " 11  description.garage                     5352 non-null   float64\n",
      " 12  description.stories                    5352 non-null   float64\n",
      " 13  description.beds                       5352 non-null   float64\n",
      " 14  description.type                       5352 non-null   object \n",
      " 15  lead_attributes.show_contact_an_agent  5352 non-null   bool   \n",
      " 16  location.address.postal_code           5352 non-null   int64  \n",
      " 17  location.address.state_code            5352 non-null   object \n",
      " 18  central_air                            5352 non-null   int64  \n",
      " 19  dishwasher                             5352 non-null   int64  \n",
      " 20  fireplace                              5352 non-null   int64  \n",
      " 21  forced_air                             5352 non-null   int64  \n",
      " 22  hardwood_floors                        5352 non-null   int64  \n",
      " 23  washer_dryer                           5352 non-null   int64  \n",
      " 24  basement                               5352 non-null   int64  \n",
      " 25  single_story                           5352 non-null   int64  \n",
      " 26  garage_1_or_more                       5352 non-null   int64  \n",
      " 27  garage_2_or_more                       5352 non-null   int64  \n",
      " 28  dining_room                            5352 non-null   int64  \n",
      " 29  two_or_more_stories                    5352 non-null   int64  \n",
      " 30  shopping                               5352 non-null   int64  \n",
      " 31  family_room                            5352 non-null   int64  \n",
      " 32  central_heat                           5352 non-null   int64  \n",
      " 33  laundry_room                           5352 non-null   int64  \n",
      " 34  recreation_facilities                  5352 non-null   int64  \n",
      " 35  view                                   5352 non-null   int64  \n",
      " 36  community_outdoor_space                5352 non-null   int64  \n",
      " 37  city_view                              5352 non-null   int64  \n",
      " 38  community_security_features            5352 non-null   int64  \n",
      " 39  city_mean_price                        5352 non-null   float64\n",
      " 40  state_mean_price                       5352 non-null   float64\n",
      "dtypes: bool(1), float64(14), int64(23), object(3)\n",
      "memory usage: 1.6+ MB\n"
     ]
    }
   ],
   "source": [
    "train.info()"
   ]
  },
  {
   "cell_type": "code",
   "execution_count": 30,
   "metadata": {},
   "outputs": [],
   "source": [
    "from sklearn.model_selection import train_test_split\n",
    "x_train = train.drop(columns=['description.sold_price'])\n",
    "y_train = train['description.sold_price']\n",
    "x_test = test.drop(columns=['description.sold_price'])\n",
    "y_test = test['description.sold_price']"
   ]
  },
  {
   "cell_type": "code",
   "execution_count": 4,
   "metadata": {},
   "outputs": [
    {
     "name": "stdout",
     "output_type": "stream",
     "text": [
      "385490.66129409015\n"
     ]
    }
   ],
   "source": [
    "print(y_train.mean())\n"
   ]
  },
  {
   "cell_type": "code",
   "execution_count": 31,
   "metadata": {},
   "outputs": [
    {
     "name": "stdout",
     "output_type": "stream",
     "text": [
      "R^2 Score: 0.17\n",
      "Mean Squared Error: 555175104976.73\n",
      "Mean Absolute Error: 70754.15\n",
      "R^2 Score: 0.17\n"
     ]
    },
    {
     "name": "stderr",
     "output_type": "stream",
     "text": [
      "/opt/anaconda3/envs/LHL/lib/python3.11/site-packages/sklearn/linear_model/_coordinate_descent.py:697: ConvergenceWarning: Objective did not converge. You might want to increase the number of iterations, check the scale of the features or consider increasing regularisation. Duality gap: 1.310e+13, tolerance: 7.025e+10\n",
      "  model = cd_fast.enet_coordinate_descent(\n"
     ]
    }
   ],
   "source": [
    "from sklearn.pipeline import Pipeline\n",
    "from sklearn.preprocessing import StandardScaler, PolynomialFeatures, OneHotEncoder\n",
    "from sklearn.linear_model import Lasso, LinearRegression\n",
    "from sklearn.metrics import mean_squared_error, mean_absolute_error, r2_score\n",
    "from sklearn.compose import ColumnTransformer\n",
    "from sklearn.pipeline import Pipeline\n",
    "# Define the pipeline\n",
    "\n",
    "# Define feature types\n",
    "numerical_features = x_train.select_dtypes(include=['float64', 'int64']).columns\n",
    "categorical_features = x_train.select_dtypes(include=['object']).columns\n",
    "\n",
    "# Define transformers\n",
    "numerical_transformer = StandardScaler()\n",
    "categorical_transformer = OneHotEncoder(sparse_output=False, handle_unknown='ignore')\n",
    "\n",
    "# Create preprocessor\n",
    "preprocessor = ColumnTransformer(\n",
    "    transformers=[\n",
    "        ('num', numerical_transformer, numerical_features),\n",
    "        ('cat', categorical_transformer, categorical_features),\n",
    "    ])\n",
    "\n",
    "# Create pipeline\n",
    "lr = Pipeline(steps=[('preprocessor', preprocessor),\n",
    "                     ('model', Lasso())])\n",
    "\n",
    "# Fit the pipeline\n",
    "lr.fit(x_train, y_train)\n",
    "\n",
    "# Evaluate the model\n",
    "y_pred = lr.predict(x_test)\n",
    "print(f\"R^2 Score: {lr.score(x_test, y_test):.2f}\")\n",
    "print(f\"Mean Squared Error: {mean_squared_error(y_test, y_pred):.2f}\")\n",
    "print(f\"Mean Absolute Error: {mean_absolute_error(y_test, y_pred):.2f}\")\n",
    "print(f\"R^2 Score: {r2_score(y_test, y_pred):.2f}\")"
   ]
  },
  {
   "cell_type": "code",
   "execution_count": 34,
   "metadata": {},
   "outputs": [],
   "source": [
    "from sklearn.svm import SVR\n",
    "# Define the pipeline\n",
    "pipeline = Pipeline([\n",
    "    ('preprocessor', preprocessor),\n",
    "    ('poly_features', PolynomialFeatures(degree=3)),\n",
    "    ('lasso', SVR())\n",
    "])\n",
    "\n",
    "# Fit the pipeline\n",
    "pipeline.fit(x_train, y_train)\n",
    "\n",
    "# Evaluate the model\n",
    "y_pred = pipeline.predict(x_test)\n",
    "print(f\"R^2 Score: {pipeline.score(x_test, y_test):.2f}\")\n",
    "print(f\"Mean Squared Error: {mean_squared_error(y_test, y_pred):.2f}\")\n",
    "print(f\"Mean Absolute Error: {mean_absolute_error(y_test, y_pred):.2f}\")\n",
    "print(r2_score(y_test, y_pred))"
   ]
  },
  {
   "cell_type": "code",
   "execution_count": 6,
   "metadata": {},
   "outputs": [
    {
     "name": "stdout",
     "output_type": "stream",
     "text": [
      "0.9629274875536467\n",
      "6013558756.7249565\n",
      "26822.03156024384\n",
      "0.9629274875536467\n"
     ]
    }
   ],
   "source": [
    "from sklearn.ensemble import RandomForestRegressor\n",
    "# Define the pipeline\n",
    "pipeline = Pipeline([\n",
    "    ('preprocessor', preprocessor),\n",
    "    ('poly_features', PolynomialFeatures(degree=2)),\n",
    "    ('rf', RandomForestRegressor())\n",
    "])\n",
    "# Fit the pipeline\n",
    "pipeline.fit(x_train, y_train)\n",
    "\n",
    "# Evaluate the model\n",
    "y_pred = pipeline.predict(x_test)\n",
    "print(pipeline.score(x_test, y_test))\n",
    "print(mean_squared_error(y_test, y_pred))\n",
    "print(mean_absolute_error(y_test, y_pred))\n",
    "print(r2_score(y_test, y_pred))"
   ]
  },
  {
   "cell_type": "code",
   "execution_count": 7,
   "metadata": {},
   "outputs": [
    {
     "name": "stdout",
     "output_type": "stream",
     "text": [
      "Best Parameters: {'xgb__max_depth': 5, 'xgb__n_estimators': 300}\n",
      "0.9696925277982238\n",
      "MSE: 4916196740.561531\n",
      "MAE: 15890.89727948471\n",
      "R2: 0.9696925277982238\n"
     ]
    }
   ],
   "source": [
    "from xgboost import XGBRegressor\n",
    "from sklearn.model_selection import GridSearchCV\n",
    "from sklearn.pipeline import Pipeline\n",
    "from sklearn.preprocessing import StandardScaler, PolynomialFeatures\n",
    "from sklearn.metrics import mean_squared_error, mean_absolute_error, r2_score\n",
    "\n",
    "# Define the pipeline\n",
    "pipeline = Pipeline([\n",
    "    ('scaler', StandardScaler()),\n",
    "    ('poly_features', PolynomialFeatures(degree=3)),\n",
    "    ('xgb', XGBRegressor())\n",
    "])\n",
    "\n",
    "# Define the parameter grid\n",
    "params = {\n",
    "    'xgb__n_estimators': [100, 200, 300],\n",
    "    'xgb__max_depth': [3, 4, 5]\n",
    "}\n",
    "\n",
    "# Set up GridSearchCV with the correct scoring parameter\n",
    "grid_search = GridSearchCV(pipeline, params, cv=5, scoring='neg_mean_absolute_error')\n",
    "\n",
    "# Fit the pipeline\n",
    "grid_search.fit(X_train, y_train)\n",
    "\n",
    "# Get the best parameters and model\n",
    "best_params = grid_search.best_params_\n",
    "best_model = grid_search.best_estimator_\n",
    "\n",
    "# Evaluate the model using the best model\n",
    "y_pred = best_model.predict(X_test)\n",
    "print('Best Parameters:', best_params)\n",
    "print(best_model.score(X_test, y_test))\n",
    "print(\"MSE:\", mean_squared_error(y_test, y_pred))\n",
    "print(\"MAE:\", mean_absolute_error(y_test, y_pred))\n",
    "print(\"R2:\", r2_score(y_test, y_pred))"
   ]
  }
 ],
 "metadata": {
  "kernelspec": {
   "display_name": "LHL",
   "language": "python",
   "name": "python3"
  },
  "language_info": {
   "codemirror_mode": {
    "name": "ipython",
    "version": 3
   },
   "file_extension": ".py",
   "mimetype": "text/x-python",
   "name": "python",
   "nbconvert_exporter": "python",
   "pygments_lexer": "ipython3",
   "version": "3.11.9"
  }
 },
 "nbformat": 4,
 "nbformat_minor": 2
}

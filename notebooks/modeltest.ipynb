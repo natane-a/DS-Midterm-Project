{
 "cells": [
  {
   "cell_type": "code",
   "execution_count": 1,
   "metadata": {},
   "outputs": [],
   "source": [
    "import pandas as pd\n",
    "\n",
    "train = pd.read_csv('../preprocessed/train_df.csv')\n",
    "test = pd.read_csv('../preprocessed/test_df.csv')\n"
   ]
  },
  {
   "cell_type": "code",
   "execution_count": 2,
   "metadata": {},
   "outputs": [
    {
     "name": "stdout",
     "output_type": "stream",
     "text": [
      "<class 'pandas.core.frame.DataFrame'>\n",
      "RangeIndex: 5349 entries, 0 to 5348\n",
      "Data columns (total 39 columns):\n",
      " #   Column                                 Non-Null Count  Dtype  \n",
      "---  ------                                 --------------  -----  \n",
      " 0   list_price                             5349 non-null   float64\n",
      " 1   price_reduced_amount                   5349 non-null   float64\n",
      " 2   description.year_built                 5349 non-null   int64  \n",
      " 3   description.baths_3qtr                 5349 non-null   float64\n",
      " 4   description.sold_price                 5349 non-null   float64\n",
      " 5   description.baths_full                 5349 non-null   float64\n",
      " 6   description.baths_half                 5349 non-null   float64\n",
      " 7   description.lot_sqft                   5349 non-null   float64\n",
      " 8   description.sqft                       5349 non-null   float64\n",
      " 9   description.baths                      5349 non-null   float64\n",
      " 10  description.sub_type                   5349 non-null   object \n",
      " 11  description.garage                     5349 non-null   float64\n",
      " 12  description.stories                    5349 non-null   float64\n",
      " 13  description.beds                       5349 non-null   float64\n",
      " 14  description.type                       5349 non-null   object \n",
      " 15  lead_attributes.show_contact_an_agent  5349 non-null   bool   \n",
      " 16  central_air                            5349 non-null   int64  \n",
      " 17  dishwasher                             5349 non-null   int64  \n",
      " 18  fireplace                              5349 non-null   int64  \n",
      " 19  forced_air                             5349 non-null   int64  \n",
      " 20  hardwood_floors                        5349 non-null   int64  \n",
      " 21  washer_dryer                           5349 non-null   int64  \n",
      " 22  basement                               5349 non-null   int64  \n",
      " 23  single_story                           5349 non-null   int64  \n",
      " 24  garage_1_or_more                       5349 non-null   int64  \n",
      " 25  garage_2_or_more                       5349 non-null   int64  \n",
      " 26  dining_room                            5349 non-null   int64  \n",
      " 27  two_or_more_stories                    5349 non-null   int64  \n",
      " 28  shopping                               5349 non-null   int64  \n",
      " 29  family_room                            5349 non-null   int64  \n",
      " 30  central_heat                           5349 non-null   int64  \n",
      " 31  laundry_room                           5349 non-null   int64  \n",
      " 32  recreation_facilities                  5349 non-null   int64  \n",
      " 33  view                                   5349 non-null   int64  \n",
      " 34  community_outdoor_space                5349 non-null   int64  \n",
      " 35  city_view                              5349 non-null   int64  \n",
      " 36  community_security_features            5349 non-null   int64  \n",
      " 37  city_mean_price                        5349 non-null   float64\n",
      " 38  state_mean_price                       5349 non-null   float64\n",
      "dtypes: bool(1), float64(14), int64(22), object(2)\n",
      "memory usage: 1.6+ MB\n"
     ]
    }
   ],
   "source": [
    "train.info()"
   ]
  },
  {
   "cell_type": "code",
   "execution_count": 3,
   "metadata": {},
   "outputs": [],
   "source": [
    "from sklearn.model_selection import train_test_split\n",
    "\n",
    "X = train[['description.sqft','city_mean_price','state_mean_price','description.year_built']]\n",
    "y = train['description.sold_price']\n",
    "\n",
    "X_train, X_test, y_train, y_test = train_test_split(X, y, test_size=0.2, random_state=42)"
   ]
  },
  {
   "cell_type": "code",
   "execution_count": 4,
   "metadata": {},
   "outputs": [
    {
     "name": "stdout",
     "output_type": "stream",
     "text": [
      "390365.61790137884\n"
     ]
    }
   ],
   "source": [
    "print(y_train.mean())\n"
   ]
  },
  {
   "cell_type": "code",
   "execution_count": 5,
   "metadata": {},
   "outputs": [
    {
     "name": "stdout",
     "output_type": "stream",
     "text": [
      "0.6681659011925758\n",
      "37395183891.70136\n",
      "119214.18488089835\n",
      "0.6681659011925758\n"
     ]
    },
    {
     "name": "stderr",
     "output_type": "stream",
     "text": [
      "/opt/anaconda3/envs/LHL/lib/python3.11/site-packages/sklearn/linear_model/_coordinate_descent.py:697: ConvergenceWarning: Objective did not converge. You might want to increase the number of iterations, check the scale of the features or consider increasing regularisation. Duality gap: 1.036e+14, tolerance: 5.798e+10\n",
      "  model = cd_fast.enet_coordinate_descent(\n"
     ]
    }
   ],
   "source": [
    "from sklearn.pipeline import Pipeline\n",
    "from sklearn.preprocessing import StandardScaler, PolynomialFeatures\n",
    "from sklearn.linear_model import Lasso\n",
    "from sklearn.metrics import mean_squared_error, mean_absolute_error, r2_score\n",
    "\n",
    "# Define the pipeline\n",
    "pipeline = Pipeline([\n",
    "    ('scaler', StandardScaler()),\n",
    "    ('poly_features', PolynomialFeatures(degree=3)),\n",
    "    ('lasso', Lasso())\n",
    "])\n",
    "\n",
    "# Fit the pipeline\n",
    "pipeline.fit(X_train, y_train)\n",
    "\n",
    "# Evaluate the model\n",
    "y_pred = pipeline.predict(X_test)\n",
    "print(pipeline.score(X_test, y_test))\n",
    "print(mean_squared_error(y_test, y_pred))\n",
    "print(mean_absolute_error(y_test, y_pred))\n",
    "print(r2_score(y_test, y_pred))"
   ]
  },
  {
   "cell_type": "code",
   "execution_count": 6,
   "metadata": {},
   "outputs": [
    {
     "name": "stdout",
     "output_type": "stream",
     "text": [
      "-0.0365417452550556\n",
      "116810386016.81717\n",
      "204566.72430116346\n",
      "-0.0365417452550556\n"
     ]
    }
   ],
   "source": [
    "from sklearn.svm import SVR\n",
    "# Define the pipeline\n",
    "pipeline = Pipeline([\n",
    "    ('scaler', StandardScaler()),\n",
    "    ('poly_features', PolynomialFeatures(degree=3)),\n",
    "    ('lasso', SVR())\n",
    "])\n",
    "\n",
    "# Fit the pipeline\n",
    "pipeline.fit(X_train, y_train)\n",
    "\n",
    "# Evaluate the model\n",
    "y_pred = pipeline.predict(X_test)\n",
    "print(pipeline.score(X_test, y_test))\n",
    "print(mean_squared_error(y_test, y_pred))\n",
    "print(mean_absolute_error(y_test, y_pred))\n",
    "print(r2_score(y_test, y_pred))"
   ]
  },
  {
   "cell_type": "code",
   "execution_count": 7,
   "metadata": {},
   "outputs": [
    {
     "name": "stdout",
     "output_type": "stream",
     "text": [
      "0.926096561480704\n",
      "8328356499.800102\n",
      "24795.017330632792\n",
      "0.926096561480704\n"
     ]
    }
   ],
   "source": [
    "from sklearn.ensemble import RandomForestRegressor\n",
    "# Define the pipeline\n",
    "pipeline = Pipeline([\n",
    "    ('scaler', StandardScaler()),\n",
    "    ('poly_features', PolynomialFeatures(degree=2)),\n",
    "    ('rf', RandomForestRegressor())\n",
    "])\n",
    "# Fit the pipeline\n",
    "pipeline.fit(X_train, y_train)\n",
    "\n",
    "# Evaluate the model\n",
    "y_pred = pipeline.predict(X_test)\n",
    "print(pipeline.score(X_test, y_test))\n",
    "print(mean_squared_error(y_test, y_pred))\n",
    "print(mean_absolute_error(y_test, y_pred))\n",
    "print(r2_score(y_test, y_pred))"
   ]
  },
  {
   "cell_type": "code",
   "execution_count": 15,
   "metadata": {},
   "outputs": [
    {
     "name": "stdout",
     "output_type": "stream",
     "text": [
      "Best Parameters: {'xgb__max_depth': 5, 'xgb__n_estimators': 300}\n",
      "0.9711814489953852\n",
      "MSE: 3247631928.6745763\n",
      "MAE: 14831.569141537675\n",
      "R2: 0.9711814489953852\n"
     ]
    }
   ],
   "source": [
    "from xgboost import XGBRegressor\n",
    "from sklearn.model_selection import GridSearchCV\n",
    "from sklearn.pipeline import Pipeline\n",
    "from sklearn.preprocessing import StandardScaler, PolynomialFeatures\n",
    "from sklearn.metrics import mean_squared_error, mean_absolute_error, r2_score\n",
    "\n",
    "# Define the pipeline\n",
    "pipeline = Pipeline([\n",
    "    ('scaler', StandardScaler()),\n",
    "    ('poly_features', PolynomialFeatures(degree=3)),\n",
    "    ('xgb', XGBRegressor())\n",
    "])\n",
    "\n",
    "# Define the parameter grid\n",
    "params = {\n",
    "    'xgb__n_estimators': [100, 200, 300],\n",
    "    'xgb__max_depth': [3, 4, 5]\n",
    "}\n",
    "\n",
    "# Set up GridSearchCV with the correct scoring parameter\n",
    "grid_search = GridSearchCV(pipeline, params, cv=5, scoring='neg_mean_absolute_error')\n",
    "\n",
    "# Fit the pipeline\n",
    "grid_search.fit(X_train, y_train)\n",
    "\n",
    "# Get the best parameters and model\n",
    "best_params = grid_search.best_params_\n",
    "best_model = grid_search.best_estimator_\n",
    "\n",
    "# Evaluate the model using the best model\n",
    "y_pred = best_model.predict(X_test)\n",
    "print('Best Parameters:', best_params)\n",
    "print(best_model.score(X_test, y_test))\n",
    "print(\"MSE:\", mean_squared_error(y_test, y_pred))\n",
    "print(\"MAE:\", mean_absolute_error(y_test, y_pred))\n",
    "print(\"R2:\", r2_score(y_test, y_pred))"
   ]
  }
 ],
 "metadata": {
  "kernelspec": {
   "display_name": "LHL",
   "language": "python",
   "name": "python3"
  },
  "language_info": {
   "codemirror_mode": {
    "name": "ipython",
    "version": 3
   },
   "file_extension": ".py",
   "mimetype": "text/x-python",
   "name": "python",
   "nbconvert_exporter": "python",
   "pygments_lexer": "ipython3",
   "version": "3.11.9"
  }
 },
 "nbformat": 4,
 "nbformat_minor": 2
}
